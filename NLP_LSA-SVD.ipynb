{
 "cells": [
  {
   "cell_type": "markdown",
   "metadata": {
    "collapsed": true,
    "deletable": true,
    "editable": true
   },
   "source": [
    "import sklearn ,Import all of the scikit learn stuff from __future__ import print_function"
   ]
  },
  {
   "cell_type": "code",
   "execution_count": 1,
   "metadata": {
    "collapsed": true,
    "deletable": true,
    "editable": true
   },
   "outputs": [],
   "source": [
    "from sklearn.decomposition import TruncatedSVD\n",
    "from sklearn.feature_extraction.text import TfidfVectorizer\n",
    "from sklearn.feature_extraction.text import CountVectorizer\n",
    "from sklearn.preprocessing import Normalizer\n",
    "from sklearn import metrics\n",
    "from sklearn.cluster import KMeans, MiniBatchKMeans\n",
    "import pandas as pd\n",
    "import warnings"
   ]
  },
  {
   "cell_type": "markdown",
   "metadata": {
    "deletable": true,
    "editable": true
   },
   "source": [
    "Suppress warnings from pandas library"
   ]
  },
  {
   "cell_type": "code",
   "execution_count": 2,
   "metadata": {
    "collapsed": true,
    "deletable": true,
    "editable": true
   },
   "outputs": [],
   "source": [
    "warnings.filterwarnings(\"ignore\", category=DeprecationWarning, module=\"pandas\", lineno=570)"
   ]
  },
  {
   "cell_type": "code",
   "execution_count": 3,
   "metadata": {
    "collapsed": true,
    "deletable": true,
    "editable": true
   },
   "outputs": [],
   "source": [
    "import numpy\n",
    "import numpy as np"
   ]
  },
  {
   "cell_type": "code",
   "execution_count": 4,
   "metadata": {
    "collapsed": true,
    "deletable": true,
    "editable": true
   },
   "outputs": [],
   "source": [
    "example = [\"Machine learning is very fun\", \"Python is very, very nice\", \"Statistics is nice, too\", \"Data science is fun\",\n",
    "\"Python is great for machine learning\", \"I like Cricket\", \"Cricket is great to watch\"]\n",
    "vectorizer = CountVectorizer(min_df = 1, stop_words = 'english')\n",
    "dtm = vectorizer.fit_transform(example)"
   ]
  },
  {
   "cell_type": "code",
   "execution_count": 5,
   "metadata": {
    "collapsed": false,
    "deletable": true,
    "editable": true
   },
   "outputs": [
    {
     "data": {
      "text/plain": [
       "array([[0, 0, 1, 0, 1, 0, 1, 0, 0, 0, 0, 0],\n",
       "       [0, 0, 0, 0, 0, 0, 0, 1, 1, 0, 0, 0],\n",
       "       [0, 0, 0, 0, 0, 0, 0, 1, 0, 0, 1, 0],\n",
       "       [0, 1, 1, 0, 0, 0, 0, 0, 0, 1, 0, 0],\n",
       "       [0, 0, 0, 1, 1, 0, 1, 0, 1, 0, 0, 0],\n",
       "       [1, 0, 0, 0, 0, 1, 0, 0, 0, 0, 0, 0],\n",
       "       [1, 0, 0, 1, 0, 0, 0, 0, 0, 0, 0, 1]], dtype=int64)"
      ]
     },
     "execution_count": 5,
     "metadata": {},
     "output_type": "execute_result"
    }
   ],
   "source": [
    "dtm.toarray()"
   ]
  },
  {
   "cell_type": "code",
   "execution_count": 7,
   "metadata": {
    "collapsed": false
   },
   "outputs": [
    {
     "data": {
      "text/plain": [
       "['cricket',\n",
       " 'data',\n",
       " 'fun',\n",
       " 'great',\n",
       " 'learning',\n",
       " 'like',\n",
       " 'machine',\n",
       " 'nice',\n",
       " 'python',\n",
       " 'science',\n",
       " 'statistics',\n",
       " 'watch']"
      ]
     },
     "execution_count": 7,
     "metadata": {},
     "output_type": "execute_result"
    }
   ],
   "source": [
    "vectorizer.get_feature_names()"
   ]
  },
  {
   "cell_type": "code",
   "execution_count": 23,
   "metadata": {
    "collapsed": false,
    "deletable": true,
    "editable": true
   },
   "outputs": [
    {
     "name": "stdout",
     "output_type": "stream",
     "text": [
      "                                      cricket  data  fun  great  learning  \\\n",
      "Machine learning is very fun                0     0    1      0         1   \n",
      "Python is very, very nice                   0     0    0      0         0   \n",
      "Statistics is nice, too                     0     0    0      0         0   \n",
      "Data science is fun                         0     1    1      0         0   \n",
      "Python is great for machine learning        0     0    0      1         1   \n",
      "I like Cricket                              1     0    0      0         0   \n",
      "Cricket is great to watch                   1     0    0      1         0   \n",
      "\n",
      "                                      like  machine  nice  python  science  \\\n",
      "Machine learning is very fun             0        1     0       0        0   \n",
      "Python is very, very nice                0        0     1       1        0   \n",
      "Statistics is nice, too                  0        0     1       0        0   \n",
      "Data science is fun                      0        0     0       0        1   \n",
      "Python is great for machine learning     0        1     0       1        0   \n",
      "I like Cricket                           1        0     0       0        0   \n",
      "Cricket is great to watch                0        0     0       0        0   \n",
      "\n",
      "                                      statistics  watch  \n",
      "Machine learning is very fun                   0      0  \n",
      "Python is very, very nice                      0      0  \n",
      "Statistics is nice, too                        1      0  \n",
      "Data science is fun                            0      0  \n",
      "Python is great for machine learning           0      0  \n",
      "I like Cricket                                 0      0  \n",
      "Cricket is great to watch                      0      1  \n"
     ]
    }
   ],
   "source": [
    "print(pd.DataFrame(dtm.toarray(),index=example,columns=vectorizer.get_feature_names()).head(10))"
   ]
  },
  {
   "cell_type": "code",
   "execution_count": 27,
   "metadata": {
    "collapsed": false,
    "deletable": true,
    "editable": true
   },
   "outputs": [
    {
     "name": "stdout",
     "output_type": "stream",
     "text": [
      "                              cricket  data  fun  great  learning  like  \\\n",
      "Machine learning is very fun        0     0    1      0         1     0   \n",
      "Python is very, very nice           0     0    0      0         0     0   \n",
      "\n",
      "                              machine  nice  python  science  statistics  \\\n",
      "Machine learning is very fun        1     0       0        0           0   \n",
      "Python is very, very nice           0     1       1        0           0   \n",
      "\n",
      "                              watch  \n",
      "Machine learning is very fun      0  \n",
      "Python is very, very nice         0  \n"
     ]
    }
   ],
   "source": [
    "print(pd.DataFrame(dtm.toarray(),index=example,columns=vectorizer.get_feature_names()).head(2))"
   ]
  },
  {
   "cell_type": "markdown",
   "metadata": {
    "deletable": true,
    "editable": true
   },
   "source": [
    "NOW Without Stopwords and without FIt Transform"
   ]
  },
  {
   "cell_type": "code",
   "execution_count": 31,
   "metadata": {
    "collapsed": true,
    "deletable": true,
    "editable": true
   },
   "outputs": [],
   "source": [
    "example = [\"Machine learning is very fun\", \"Python is very, very nice\", \"Statistics is nice, too\", \"Data science is fun\",\n",
    "\"Python is great for machine learning\", \"I like Cricket\", \"Cricket is great to watch\"]\n",
    "vectorizer = CountVectorizer()\n",
    "trail = vectorizer.fit_transform(example)"
   ]
  },
  {
   "cell_type": "code",
   "execution_count": 32,
   "metadata": {
    "collapsed": false,
    "deletable": true,
    "editable": true,
    "scrolled": true
   },
   "outputs": [
    {
     "name": "stdout",
     "output_type": "stream",
     "text": [
      "                                      cricket  data  for  fun  great  is  \\\n",
      "Machine learning is very fun                0     0    0    1      0   1   \n",
      "Python is very, very nice                   0     0    0    0      0   1   \n",
      "Statistics is nice, too                     0     0    0    0      0   1   \n",
      "Data science is fun                         0     1    0    1      0   1   \n",
      "Python is great for machine learning        0     0    1    0      1   1   \n",
      "I like Cricket                              1     0    0    0      0   0   \n",
      "Cricket is great to watch                   1     0    0    0      1   1   \n",
      "\n",
      "                                      learning  like  machine  nice  python  \\\n",
      "Machine learning is very fun                 1     0        1     0       0   \n",
      "Python is very, very nice                    0     0        0     1       1   \n",
      "Statistics is nice, too                      0     0        0     1       0   \n",
      "Data science is fun                          0     0        0     0       0   \n",
      "Python is great for machine learning         1     0        1     0       1   \n",
      "I like Cricket                               0     1        0     0       0   \n",
      "Cricket is great to watch                    0     0        0     0       0   \n",
      "\n",
      "                                      science  statistics  to  too  very  \\\n",
      "Machine learning is very fun                0           0   0    0     1   \n",
      "Python is very, very nice                   0           0   0    0     2   \n",
      "Statistics is nice, too                     0           1   0    1     0   \n",
      "Data science is fun                         1           0   0    0     0   \n",
      "Python is great for machine learning        0           0   0    0     0   \n",
      "I like Cricket                              0           0   0    0     0   \n",
      "Cricket is great to watch                   0           0   1    0     0   \n",
      "\n",
      "                                      watch  \n",
      "Machine learning is very fun              0  \n",
      "Python is very, very nice                 0  \n",
      "Statistics is nice, too                   0  \n",
      "Data science is fun                       0  \n",
      "Python is great for machine learning      0  \n",
      "I like Cricket                            0  \n",
      "Cricket is great to watch                 1  \n"
     ]
    }
   ],
   "source": [
    "print(pd.DataFrame(trail.toarray(),index=example,columns=vectorizer.get_feature_names()).head(10))"
   ]
  },
  {
   "cell_type": "markdown",
   "metadata": {
    "deletable": true,
    "editable": true
   },
   "source": [
    "WIthout FIt transform we got error"
   ]
  },
  {
   "cell_type": "markdown",
   "metadata": {
    "deletable": true,
    "editable": true
   },
   "source": [
    "NOW back to including stop words"
   ]
  },
  {
   "cell_type": "code",
   "execution_count": 13,
   "metadata": {
    "collapsed": false,
    "deletable": true,
    "editable": true
   },
   "outputs": [],
   "source": [
    "example = [\"Machine learning is very fun\", \"Python is very, very nice\", \"Statistics is nice, too\", \"Data science is fun\",\n",
    "\"Python is great for machine learning\", \"I like Cricket\", \"Cricket is great to watch\"]\n",
    "vectorizer = CountVectorizer(min_df = 1, stop_words = 'english')\n",
    "dtm = vectorizer.fit_transform(example)\n",
    "Frame=pd.DataFrame(dtm.toarray(),index=example,columns=vectorizer.get_feature_names()).head(10)"
   ]
  },
  {
   "cell_type": "code",
   "execution_count": 14,
   "metadata": {
    "collapsed": false,
    "deletable": true,
    "editable": true,
    "scrolled": true
   },
   "outputs": [
    {
     "data": {
      "text/html": [
       "<div>\n",
       "<table border=\"1\" class=\"dataframe\">\n",
       "  <thead>\n",
       "    <tr style=\"text-align: right;\">\n",
       "      <th></th>\n",
       "      <th>cricket</th>\n",
       "      <th>data</th>\n",
       "      <th>fun</th>\n",
       "      <th>great</th>\n",
       "      <th>learning</th>\n",
       "      <th>like</th>\n",
       "      <th>machine</th>\n",
       "      <th>nice</th>\n",
       "      <th>python</th>\n",
       "      <th>science</th>\n",
       "      <th>statistics</th>\n",
       "      <th>watch</th>\n",
       "    </tr>\n",
       "  </thead>\n",
       "  <tbody>\n",
       "    <tr>\n",
       "      <th>Machine learning is very fun</th>\n",
       "      <td>0</td>\n",
       "      <td>0</td>\n",
       "      <td>1</td>\n",
       "      <td>0</td>\n",
       "      <td>1</td>\n",
       "      <td>0</td>\n",
       "      <td>1</td>\n",
       "      <td>0</td>\n",
       "      <td>0</td>\n",
       "      <td>0</td>\n",
       "      <td>0</td>\n",
       "      <td>0</td>\n",
       "    </tr>\n",
       "    <tr>\n",
       "      <th>Python is very, very nice</th>\n",
       "      <td>0</td>\n",
       "      <td>0</td>\n",
       "      <td>0</td>\n",
       "      <td>0</td>\n",
       "      <td>0</td>\n",
       "      <td>0</td>\n",
       "      <td>0</td>\n",
       "      <td>1</td>\n",
       "      <td>1</td>\n",
       "      <td>0</td>\n",
       "      <td>0</td>\n",
       "      <td>0</td>\n",
       "    </tr>\n",
       "    <tr>\n",
       "      <th>Statistics is nice, too</th>\n",
       "      <td>0</td>\n",
       "      <td>0</td>\n",
       "      <td>0</td>\n",
       "      <td>0</td>\n",
       "      <td>0</td>\n",
       "      <td>0</td>\n",
       "      <td>0</td>\n",
       "      <td>1</td>\n",
       "      <td>0</td>\n",
       "      <td>0</td>\n",
       "      <td>1</td>\n",
       "      <td>0</td>\n",
       "    </tr>\n",
       "    <tr>\n",
       "      <th>Data science is fun</th>\n",
       "      <td>0</td>\n",
       "      <td>1</td>\n",
       "      <td>1</td>\n",
       "      <td>0</td>\n",
       "      <td>0</td>\n",
       "      <td>0</td>\n",
       "      <td>0</td>\n",
       "      <td>0</td>\n",
       "      <td>0</td>\n",
       "      <td>1</td>\n",
       "      <td>0</td>\n",
       "      <td>0</td>\n",
       "    </tr>\n",
       "    <tr>\n",
       "      <th>Python is great for machine learning</th>\n",
       "      <td>0</td>\n",
       "      <td>0</td>\n",
       "      <td>0</td>\n",
       "      <td>1</td>\n",
       "      <td>1</td>\n",
       "      <td>0</td>\n",
       "      <td>1</td>\n",
       "      <td>0</td>\n",
       "      <td>1</td>\n",
       "      <td>0</td>\n",
       "      <td>0</td>\n",
       "      <td>0</td>\n",
       "    </tr>\n",
       "    <tr>\n",
       "      <th>I like Cricket</th>\n",
       "      <td>1</td>\n",
       "      <td>0</td>\n",
       "      <td>0</td>\n",
       "      <td>0</td>\n",
       "      <td>0</td>\n",
       "      <td>1</td>\n",
       "      <td>0</td>\n",
       "      <td>0</td>\n",
       "      <td>0</td>\n",
       "      <td>0</td>\n",
       "      <td>0</td>\n",
       "      <td>0</td>\n",
       "    </tr>\n",
       "    <tr>\n",
       "      <th>Cricket is great to watch</th>\n",
       "      <td>1</td>\n",
       "      <td>0</td>\n",
       "      <td>0</td>\n",
       "      <td>1</td>\n",
       "      <td>0</td>\n",
       "      <td>0</td>\n",
       "      <td>0</td>\n",
       "      <td>0</td>\n",
       "      <td>0</td>\n",
       "      <td>0</td>\n",
       "      <td>0</td>\n",
       "      <td>1</td>\n",
       "    </tr>\n",
       "  </tbody>\n",
       "</table>\n",
       "</div>"
      ],
      "text/plain": [
       "                                      cricket  data  fun  great  learning  \\\n",
       "Machine learning is very fun                0     0    1      0         1   \n",
       "Python is very, very nice                   0     0    0      0         0   \n",
       "Statistics is nice, too                     0     0    0      0         0   \n",
       "Data science is fun                         0     1    1      0         0   \n",
       "Python is great for machine learning        0     0    0      1         1   \n",
       "I like Cricket                              1     0    0      0         0   \n",
       "Cricket is great to watch                   1     0    0      1         0   \n",
       "\n",
       "                                      like  machine  nice  python  science  \\\n",
       "Machine learning is very fun             0        1     0       0        0   \n",
       "Python is very, very nice                0        0     1       1        0   \n",
       "Statistics is nice, too                  0        0     1       0        0   \n",
       "Data science is fun                      0        0     0       0        1   \n",
       "Python is great for machine learning     0        1     0       1        0   \n",
       "I like Cricket                           1        0     0       0        0   \n",
       "Cricket is great to watch                0        0     0       0        0   \n",
       "\n",
       "                                      statistics  watch  \n",
       "Machine learning is very fun                   0      0  \n",
       "Python is very, very nice                      0      0  \n",
       "Statistics is nice, too                        1      0  \n",
       "Data science is fun                            0      0  \n",
       "Python is great for machine learning           0      0  \n",
       "I like Cricket                                 0      0  \n",
       "Cricket is great to watch                      0      1  "
      ]
     },
     "execution_count": 14,
     "metadata": {},
     "output_type": "execute_result"
    }
   ],
   "source": [
    "Frame"
   ]
  },
  {
   "cell_type": "code",
   "execution_count": 15,
   "metadata": {
    "collapsed": false,
    "deletable": true,
    "editable": true
   },
   "outputs": [],
   "source": [
    "Frame2=Frame.transpose()"
   ]
  },
  {
   "cell_type": "code",
   "execution_count": 16,
   "metadata": {
    "collapsed": false,
    "deletable": true,
    "editable": true
   },
   "outputs": [
    {
     "data": {
      "text/html": [
       "<div>\n",
       "<table border=\"1\" class=\"dataframe\">\n",
       "  <thead>\n",
       "    <tr style=\"text-align: right;\">\n",
       "      <th></th>\n",
       "      <th>Machine learning is very fun</th>\n",
       "      <th>Python is very, very nice</th>\n",
       "      <th>Statistics is nice, too</th>\n",
       "      <th>Data science is fun</th>\n",
       "      <th>Python is great for machine learning</th>\n",
       "      <th>I like Cricket</th>\n",
       "      <th>Cricket is great to watch</th>\n",
       "    </tr>\n",
       "  </thead>\n",
       "  <tbody>\n",
       "    <tr>\n",
       "      <th>cricket</th>\n",
       "      <td>0</td>\n",
       "      <td>0</td>\n",
       "      <td>0</td>\n",
       "      <td>0</td>\n",
       "      <td>0</td>\n",
       "      <td>1</td>\n",
       "      <td>1</td>\n",
       "    </tr>\n",
       "    <tr>\n",
       "      <th>data</th>\n",
       "      <td>0</td>\n",
       "      <td>0</td>\n",
       "      <td>0</td>\n",
       "      <td>1</td>\n",
       "      <td>0</td>\n",
       "      <td>0</td>\n",
       "      <td>0</td>\n",
       "    </tr>\n",
       "    <tr>\n",
       "      <th>fun</th>\n",
       "      <td>1</td>\n",
       "      <td>0</td>\n",
       "      <td>0</td>\n",
       "      <td>1</td>\n",
       "      <td>0</td>\n",
       "      <td>0</td>\n",
       "      <td>0</td>\n",
       "    </tr>\n",
       "    <tr>\n",
       "      <th>great</th>\n",
       "      <td>0</td>\n",
       "      <td>0</td>\n",
       "      <td>0</td>\n",
       "      <td>0</td>\n",
       "      <td>1</td>\n",
       "      <td>0</td>\n",
       "      <td>1</td>\n",
       "    </tr>\n",
       "    <tr>\n",
       "      <th>learning</th>\n",
       "      <td>1</td>\n",
       "      <td>0</td>\n",
       "      <td>0</td>\n",
       "      <td>0</td>\n",
       "      <td>1</td>\n",
       "      <td>0</td>\n",
       "      <td>0</td>\n",
       "    </tr>\n",
       "    <tr>\n",
       "      <th>like</th>\n",
       "      <td>0</td>\n",
       "      <td>0</td>\n",
       "      <td>0</td>\n",
       "      <td>0</td>\n",
       "      <td>0</td>\n",
       "      <td>1</td>\n",
       "      <td>0</td>\n",
       "    </tr>\n",
       "    <tr>\n",
       "      <th>machine</th>\n",
       "      <td>1</td>\n",
       "      <td>0</td>\n",
       "      <td>0</td>\n",
       "      <td>0</td>\n",
       "      <td>1</td>\n",
       "      <td>0</td>\n",
       "      <td>0</td>\n",
       "    </tr>\n",
       "    <tr>\n",
       "      <th>nice</th>\n",
       "      <td>0</td>\n",
       "      <td>1</td>\n",
       "      <td>1</td>\n",
       "      <td>0</td>\n",
       "      <td>0</td>\n",
       "      <td>0</td>\n",
       "      <td>0</td>\n",
       "    </tr>\n",
       "    <tr>\n",
       "      <th>python</th>\n",
       "      <td>0</td>\n",
       "      <td>1</td>\n",
       "      <td>0</td>\n",
       "      <td>0</td>\n",
       "      <td>1</td>\n",
       "      <td>0</td>\n",
       "      <td>0</td>\n",
       "    </tr>\n",
       "    <tr>\n",
       "      <th>science</th>\n",
       "      <td>0</td>\n",
       "      <td>0</td>\n",
       "      <td>0</td>\n",
       "      <td>1</td>\n",
       "      <td>0</td>\n",
       "      <td>0</td>\n",
       "      <td>0</td>\n",
       "    </tr>\n",
       "    <tr>\n",
       "      <th>statistics</th>\n",
       "      <td>0</td>\n",
       "      <td>0</td>\n",
       "      <td>1</td>\n",
       "      <td>0</td>\n",
       "      <td>0</td>\n",
       "      <td>0</td>\n",
       "      <td>0</td>\n",
       "    </tr>\n",
       "    <tr>\n",
       "      <th>watch</th>\n",
       "      <td>0</td>\n",
       "      <td>0</td>\n",
       "      <td>0</td>\n",
       "      <td>0</td>\n",
       "      <td>0</td>\n",
       "      <td>0</td>\n",
       "      <td>1</td>\n",
       "    </tr>\n",
       "  </tbody>\n",
       "</table>\n",
       "</div>"
      ],
      "text/plain": [
       "            Machine learning is very fun  Python is very, very nice  \\\n",
       "cricket                                0                          0   \n",
       "data                                   0                          0   \n",
       "fun                                    1                          0   \n",
       "great                                  0                          0   \n",
       "learning                               1                          0   \n",
       "like                                   0                          0   \n",
       "machine                                1                          0   \n",
       "nice                                   0                          1   \n",
       "python                                 0                          1   \n",
       "science                                0                          0   \n",
       "statistics                             0                          0   \n",
       "watch                                  0                          0   \n",
       "\n",
       "            Statistics is nice, too  Data science is fun  \\\n",
       "cricket                           0                    0   \n",
       "data                              0                    1   \n",
       "fun                               0                    1   \n",
       "great                             0                    0   \n",
       "learning                          0                    0   \n",
       "like                              0                    0   \n",
       "machine                           0                    0   \n",
       "nice                              1                    0   \n",
       "python                            0                    0   \n",
       "science                           0                    1   \n",
       "statistics                        1                    0   \n",
       "watch                             0                    0   \n",
       "\n",
       "            Python is great for machine learning  I like Cricket  \\\n",
       "cricket                                        0               1   \n",
       "data                                           0               0   \n",
       "fun                                            0               0   \n",
       "great                                          1               0   \n",
       "learning                                       1               0   \n",
       "like                                           0               1   \n",
       "machine                                        1               0   \n",
       "nice                                           0               0   \n",
       "python                                         1               0   \n",
       "science                                        0               0   \n",
       "statistics                                     0               0   \n",
       "watch                                          0               0   \n",
       "\n",
       "            Cricket is great to watch  \n",
       "cricket                             1  \n",
       "data                                0  \n",
       "fun                                 0  \n",
       "great                               1  \n",
       "learning                            0  \n",
       "like                                0  \n",
       "machine                             0  \n",
       "nice                                0  \n",
       "python                              0  \n",
       "science                             0  \n",
       "statistics                          0  \n",
       "watch                               1  "
      ]
     },
     "execution_count": 16,
     "metadata": {},
     "output_type": "execute_result"
    }
   ],
   "source": [
    "Frame2"
   ]
  },
  {
   "cell_type": "markdown",
   "metadata": {
    "deletable": true,
    "editable": true
   },
   "source": [
    "Get Words Corresponding to documents"
   ]
  },
  {
   "cell_type": "code",
   "execution_count": 17,
   "metadata": {
    "collapsed": false,
    "deletable": true,
    "editable": true
   },
   "outputs": [
    {
     "data": {
      "text/plain": [
       "['cricket',\n",
       " 'data',\n",
       " 'fun',\n",
       " 'great',\n",
       " 'learning',\n",
       " 'like',\n",
       " 'machine',\n",
       " 'nice',\n",
       " 'python',\n",
       " 'science',\n",
       " 'statistics',\n",
       " 'watch']"
      ]
     },
     "execution_count": 17,
     "metadata": {},
     "output_type": "execute_result"
    }
   ],
   "source": [
    "vectorizer.get_feature_names()"
   ]
  },
  {
   "cell_type": "markdown",
   "metadata": {
    "deletable": true,
    "editable": true
   },
   "source": [
    "Fit LSA.Use algorithm='randomizer' for larger dataset"
   ]
  },
  {
   "cell_type": "code",
   "execution_count": 18,
   "metadata": {
    "collapsed": true,
    "deletable": true,
    "editable": true
   },
   "outputs": [],
   "source": [
    "lsa=TruncatedSVD(2,algorithm='arpack')\n",
    "dtm_lsa=lsa.fit_transform(dtm)"
   ]
  },
  {
   "cell_type": "code",
   "execution_count": 19,
   "metadata": {
    "collapsed": true,
    "deletable": true,
    "editable": true
   },
   "outputs": [],
   "source": [
    "dtm_lsa=Normalizer(copy=False).fit_transform(dtm_lsa)"
   ]
  },
  {
   "cell_type": "markdown",
   "metadata": {
    "deletable": true,
    "editable": true
   },
   "source": [
    "12 components"
   ]
  },
  {
   "cell_type": "code",
   "execution_count": 20,
   "metadata": {
    "collapsed": false,
    "deletable": true,
    "editable": true
   },
   "outputs": [
    {
     "data": {
      "text/plain": [
       "array([[ 0.13362291,  0.07188057,  0.29267984,  0.41045641,  0.52397928,\n",
       "         0.0263465 ,  0.52397928,  0.09869938,  0.38241877,  0.07188057,\n",
       "         0.01946061,  0.10727641],\n",
       "       [ 0.52624627, -0.26715756, -0.46697246,  0.39359487, -0.1409598 ,\n",
       "         0.1915065 , -0.1409598 ,  0.07869075,  0.10890946, -0.26715756,\n",
       "         0.02863638,  0.33473977]])"
      ]
     },
     "execution_count": 20,
     "metadata": {},
     "output_type": "execute_result"
    }
   ],
   "source": [
    "lsa.components_"
   ]
  },
  {
   "cell_type": "markdown",
   "metadata": {},
   "source": [
    "Dimension reduced from 7 to 2"
   ]
  },
  {
   "cell_type": "code",
   "execution_count": 23,
   "metadata": {
    "collapsed": false,
    "deletable": true,
    "editable": true,
    "scrolled": false
   },
   "outputs": [
    {
     "data": {
      "text/html": [
       "<div>\n",
       "<table border=\"1\" class=\"dataframe\">\n",
       "  <thead>\n",
       "    <tr style=\"text-align: right;\">\n",
       "      <th></th>\n",
       "      <th>cricket</th>\n",
       "      <th>data</th>\n",
       "      <th>fun</th>\n",
       "      <th>great</th>\n",
       "      <th>learning</th>\n",
       "      <th>like</th>\n",
       "      <th>machine</th>\n",
       "      <th>nice</th>\n",
       "      <th>python</th>\n",
       "      <th>science</th>\n",
       "      <th>statistics</th>\n",
       "      <th>watch</th>\n",
       "    </tr>\n",
       "  </thead>\n",
       "  <tbody>\n",
       "    <tr>\n",
       "      <th>component_1</th>\n",
       "      <td>0.133623</td>\n",
       "      <td>0.071881</td>\n",
       "      <td>0.292680</td>\n",
       "      <td>0.410456</td>\n",
       "      <td>0.523979</td>\n",
       "      <td>0.026346</td>\n",
       "      <td>0.523979</td>\n",
       "      <td>0.098699</td>\n",
       "      <td>0.382419</td>\n",
       "      <td>0.071881</td>\n",
       "      <td>0.019461</td>\n",
       "      <td>0.107276</td>\n",
       "    </tr>\n",
       "    <tr>\n",
       "      <th>component_2</th>\n",
       "      <td>0.526246</td>\n",
       "      <td>-0.267158</td>\n",
       "      <td>-0.466972</td>\n",
       "      <td>0.393595</td>\n",
       "      <td>-0.140960</td>\n",
       "      <td>0.191506</td>\n",
       "      <td>-0.140960</td>\n",
       "      <td>0.078691</td>\n",
       "      <td>0.108909</td>\n",
       "      <td>-0.267158</td>\n",
       "      <td>0.028636</td>\n",
       "      <td>0.334740</td>\n",
       "    </tr>\n",
       "  </tbody>\n",
       "</table>\n",
       "</div>"
      ],
      "text/plain": [
       "              cricket      data       fun     great  learning      like  \\\n",
       "component_1  0.133623  0.071881  0.292680  0.410456  0.523979  0.026346   \n",
       "component_2  0.526246 -0.267158 -0.466972  0.393595 -0.140960  0.191506   \n",
       "\n",
       "              machine      nice    python   science  statistics     watch  \n",
       "component_1  0.523979  0.098699  0.382419  0.071881    0.019461  0.107276  \n",
       "component_2 -0.140960  0.078691  0.108909 -0.267158    0.028636  0.334740  "
      ]
     },
     "execution_count": 23,
     "metadata": {},
     "output_type": "execute_result"
    }
   ],
   "source": [
    "pd.DataFrame(lsa.components_,index=[\"component_1\",\"component_2\"],columns=vectorizer.get_feature_names())"
   ]
  },
  {
   "cell_type": "code",
   "execution_count": 21,
   "metadata": {
    "collapsed": false
   },
   "outputs": [
    {
     "data": {
      "text/html": [
       "<div>\n",
       "<table border=\"1\" class=\"dataframe\">\n",
       "  <thead>\n",
       "    <tr style=\"text-align: right;\">\n",
       "      <th></th>\n",
       "      <th>cricket</th>\n",
       "      <th>data</th>\n",
       "      <th>fun</th>\n",
       "      <th>great</th>\n",
       "      <th>learning</th>\n",
       "      <th>like</th>\n",
       "      <th>machine</th>\n",
       "      <th>nice</th>\n",
       "      <th>python</th>\n",
       "      <th>science</th>\n",
       "      <th>statistics</th>\n",
       "      <th>watch</th>\n",
       "    </tr>\n",
       "  </thead>\n",
       "  <tbody>\n",
       "    <tr>\n",
       "      <th>Machine learning is very fun</th>\n",
       "      <td>0</td>\n",
       "      <td>0</td>\n",
       "      <td>1</td>\n",
       "      <td>0</td>\n",
       "      <td>1</td>\n",
       "      <td>0</td>\n",
       "      <td>1</td>\n",
       "      <td>0</td>\n",
       "      <td>0</td>\n",
       "      <td>0</td>\n",
       "      <td>0</td>\n",
       "      <td>0</td>\n",
       "    </tr>\n",
       "    <tr>\n",
       "      <th>Python is very, very nice</th>\n",
       "      <td>0</td>\n",
       "      <td>0</td>\n",
       "      <td>0</td>\n",
       "      <td>0</td>\n",
       "      <td>0</td>\n",
       "      <td>0</td>\n",
       "      <td>0</td>\n",
       "      <td>1</td>\n",
       "      <td>1</td>\n",
       "      <td>0</td>\n",
       "      <td>0</td>\n",
       "      <td>0</td>\n",
       "    </tr>\n",
       "    <tr>\n",
       "      <th>Statistics is nice, too</th>\n",
       "      <td>0</td>\n",
       "      <td>0</td>\n",
       "      <td>0</td>\n",
       "      <td>0</td>\n",
       "      <td>0</td>\n",
       "      <td>0</td>\n",
       "      <td>0</td>\n",
       "      <td>1</td>\n",
       "      <td>0</td>\n",
       "      <td>0</td>\n",
       "      <td>1</td>\n",
       "      <td>0</td>\n",
       "    </tr>\n",
       "    <tr>\n",
       "      <th>Data science is fun</th>\n",
       "      <td>0</td>\n",
       "      <td>1</td>\n",
       "      <td>1</td>\n",
       "      <td>0</td>\n",
       "      <td>0</td>\n",
       "      <td>0</td>\n",
       "      <td>0</td>\n",
       "      <td>0</td>\n",
       "      <td>0</td>\n",
       "      <td>1</td>\n",
       "      <td>0</td>\n",
       "      <td>0</td>\n",
       "    </tr>\n",
       "    <tr>\n",
       "      <th>Python is great for machine learning</th>\n",
       "      <td>0</td>\n",
       "      <td>0</td>\n",
       "      <td>0</td>\n",
       "      <td>1</td>\n",
       "      <td>1</td>\n",
       "      <td>0</td>\n",
       "      <td>1</td>\n",
       "      <td>0</td>\n",
       "      <td>1</td>\n",
       "      <td>0</td>\n",
       "      <td>0</td>\n",
       "      <td>0</td>\n",
       "    </tr>\n",
       "    <tr>\n",
       "      <th>I like Cricket</th>\n",
       "      <td>1</td>\n",
       "      <td>0</td>\n",
       "      <td>0</td>\n",
       "      <td>0</td>\n",
       "      <td>0</td>\n",
       "      <td>1</td>\n",
       "      <td>0</td>\n",
       "      <td>0</td>\n",
       "      <td>0</td>\n",
       "      <td>0</td>\n",
       "      <td>0</td>\n",
       "      <td>0</td>\n",
       "    </tr>\n",
       "    <tr>\n",
       "      <th>Cricket is great to watch</th>\n",
       "      <td>1</td>\n",
       "      <td>0</td>\n",
       "      <td>0</td>\n",
       "      <td>1</td>\n",
       "      <td>0</td>\n",
       "      <td>0</td>\n",
       "      <td>0</td>\n",
       "      <td>0</td>\n",
       "      <td>0</td>\n",
       "      <td>0</td>\n",
       "      <td>0</td>\n",
       "      <td>1</td>\n",
       "    </tr>\n",
       "  </tbody>\n",
       "</table>\n",
       "</div>"
      ],
      "text/plain": [
       "                                      cricket  data  fun  great  learning  \\\n",
       "Machine learning is very fun                0     0    1      0         1   \n",
       "Python is very, very nice                   0     0    0      0         0   \n",
       "Statistics is nice, too                     0     0    0      0         0   \n",
       "Data science is fun                         0     1    1      0         0   \n",
       "Python is great for machine learning        0     0    0      1         1   \n",
       "I like Cricket                              1     0    0      0         0   \n",
       "Cricket is great to watch                   1     0    0      1         0   \n",
       "\n",
       "                                      like  machine  nice  python  science  \\\n",
       "Machine learning is very fun             0        1     0       0        0   \n",
       "Python is very, very nice                0        0     1       1        0   \n",
       "Statistics is nice, too                  0        0     1       0        0   \n",
       "Data science is fun                      0        0     0       0        1   \n",
       "Python is great for machine learning     0        1     0       1        0   \n",
       "I like Cricket                           1        0     0       0        0   \n",
       "Cricket is great to watch                0        0     0       0        0   \n",
       "\n",
       "                                      statistics  watch  \n",
       "Machine learning is very fun                   0      0  \n",
       "Python is very, very nice                      0      0  \n",
       "Statistics is nice, too                        1      0  \n",
       "Data science is fun                            0      0  \n",
       "Python is great for machine learning           0      0  \n",
       "I like Cricket                                 0      0  \n",
       "Cricket is great to watch                      0      1  "
      ]
     },
     "execution_count": 21,
     "metadata": {},
     "output_type": "execute_result"
    }
   ],
   "source": [
    "Frame"
   ]
  },
  {
   "cell_type": "code",
   "execution_count": 62,
   "metadata": {
    "collapsed": false,
    "deletable": true,
    "editable": true
   },
   "outputs": [
    {
     "data": {
      "text/html": [
       "<div>\n",
       "<table border=\"1\" class=\"dataframe\">\n",
       "  <thead>\n",
       "    <tr style=\"text-align: right;\">\n",
       "      <th></th>\n",
       "      <th>component_1</th>\n",
       "      <th>component_2</th>\n",
       "    </tr>\n",
       "  </thead>\n",
       "  <tbody>\n",
       "    <tr>\n",
       "      <th>cricket</th>\n",
       "      <td>0.133623</td>\n",
       "      <td>0.526246</td>\n",
       "    </tr>\n",
       "    <tr>\n",
       "      <th>data</th>\n",
       "      <td>0.071881</td>\n",
       "      <td>-0.267158</td>\n",
       "    </tr>\n",
       "    <tr>\n",
       "      <th>fun</th>\n",
       "      <td>0.292680</td>\n",
       "      <td>-0.466972</td>\n",
       "    </tr>\n",
       "    <tr>\n",
       "      <th>great</th>\n",
       "      <td>0.410456</td>\n",
       "      <td>0.393595</td>\n",
       "    </tr>\n",
       "    <tr>\n",
       "      <th>learning</th>\n",
       "      <td>0.523979</td>\n",
       "      <td>-0.140960</td>\n",
       "    </tr>\n",
       "    <tr>\n",
       "      <th>like</th>\n",
       "      <td>0.026346</td>\n",
       "      <td>0.191506</td>\n",
       "    </tr>\n",
       "    <tr>\n",
       "      <th>machine</th>\n",
       "      <td>0.523979</td>\n",
       "      <td>-0.140960</td>\n",
       "    </tr>\n",
       "    <tr>\n",
       "      <th>nice</th>\n",
       "      <td>0.098699</td>\n",
       "      <td>0.078691</td>\n",
       "    </tr>\n",
       "    <tr>\n",
       "      <th>python</th>\n",
       "      <td>0.382419</td>\n",
       "      <td>0.108909</td>\n",
       "    </tr>\n",
       "    <tr>\n",
       "      <th>science</th>\n",
       "      <td>0.071881</td>\n",
       "      <td>-0.267158</td>\n",
       "    </tr>\n",
       "    <tr>\n",
       "      <th>statistics</th>\n",
       "      <td>0.019461</td>\n",
       "      <td>0.028636</td>\n",
       "    </tr>\n",
       "    <tr>\n",
       "      <th>watch</th>\n",
       "      <td>0.107276</td>\n",
       "      <td>0.334740</td>\n",
       "    </tr>\n",
       "  </tbody>\n",
       "</table>\n",
       "</div>"
      ],
      "text/plain": [
       "            component_1  component_2\n",
       "cricket        0.133623     0.526246\n",
       "data           0.071881    -0.267158\n",
       "fun            0.292680    -0.466972\n",
       "great          0.410456     0.393595\n",
       "learning       0.523979    -0.140960\n",
       "like           0.026346     0.191506\n",
       "machine        0.523979    -0.140960\n",
       "nice           0.098699     0.078691\n",
       "python         0.382419     0.108909\n",
       "science        0.071881    -0.267158\n",
       "statistics     0.019461     0.028636\n",
       "watch          0.107276     0.334740"
      ]
     },
     "execution_count": 62,
     "metadata": {},
     "output_type": "execute_result"
    }
   ],
   "source": [
    "pd.DataFrame(lsa.components_,index=[\"component_1\",\"component_2\"],columns=vectorizer.get_feature_names()).transpose()"
   ]
  },
  {
   "cell_type": "code",
   "execution_count": 24,
   "metadata": {
    "collapsed": false
   },
   "outputs": [
    {
     "data": {
      "text/html": [
       "<div>\n",
       "<table border=\"1\" class=\"dataframe\">\n",
       "  <thead>\n",
       "    <tr style=\"text-align: right;\">\n",
       "      <th></th>\n",
       "      <th>Machine learning is very fun</th>\n",
       "      <th>Python is very, very nice</th>\n",
       "      <th>Statistics is nice, too</th>\n",
       "      <th>Data science is fun</th>\n",
       "      <th>Python is great for machine learning</th>\n",
       "      <th>I like Cricket</th>\n",
       "      <th>Cricket is great to watch</th>\n",
       "    </tr>\n",
       "  </thead>\n",
       "  <tbody>\n",
       "    <tr>\n",
       "      <th>cricket</th>\n",
       "      <td>0</td>\n",
       "      <td>0</td>\n",
       "      <td>0</td>\n",
       "      <td>0</td>\n",
       "      <td>0</td>\n",
       "      <td>1</td>\n",
       "      <td>1</td>\n",
       "    </tr>\n",
       "    <tr>\n",
       "      <th>data</th>\n",
       "      <td>0</td>\n",
       "      <td>0</td>\n",
       "      <td>0</td>\n",
       "      <td>1</td>\n",
       "      <td>0</td>\n",
       "      <td>0</td>\n",
       "      <td>0</td>\n",
       "    </tr>\n",
       "    <tr>\n",
       "      <th>fun</th>\n",
       "      <td>1</td>\n",
       "      <td>0</td>\n",
       "      <td>0</td>\n",
       "      <td>1</td>\n",
       "      <td>0</td>\n",
       "      <td>0</td>\n",
       "      <td>0</td>\n",
       "    </tr>\n",
       "    <tr>\n",
       "      <th>great</th>\n",
       "      <td>0</td>\n",
       "      <td>0</td>\n",
       "      <td>0</td>\n",
       "      <td>0</td>\n",
       "      <td>1</td>\n",
       "      <td>0</td>\n",
       "      <td>1</td>\n",
       "    </tr>\n",
       "    <tr>\n",
       "      <th>learning</th>\n",
       "      <td>1</td>\n",
       "      <td>0</td>\n",
       "      <td>0</td>\n",
       "      <td>0</td>\n",
       "      <td>1</td>\n",
       "      <td>0</td>\n",
       "      <td>0</td>\n",
       "    </tr>\n",
       "    <tr>\n",
       "      <th>like</th>\n",
       "      <td>0</td>\n",
       "      <td>0</td>\n",
       "      <td>0</td>\n",
       "      <td>0</td>\n",
       "      <td>0</td>\n",
       "      <td>1</td>\n",
       "      <td>0</td>\n",
       "    </tr>\n",
       "    <tr>\n",
       "      <th>machine</th>\n",
       "      <td>1</td>\n",
       "      <td>0</td>\n",
       "      <td>0</td>\n",
       "      <td>0</td>\n",
       "      <td>1</td>\n",
       "      <td>0</td>\n",
       "      <td>0</td>\n",
       "    </tr>\n",
       "    <tr>\n",
       "      <th>nice</th>\n",
       "      <td>0</td>\n",
       "      <td>1</td>\n",
       "      <td>1</td>\n",
       "      <td>0</td>\n",
       "      <td>0</td>\n",
       "      <td>0</td>\n",
       "      <td>0</td>\n",
       "    </tr>\n",
       "    <tr>\n",
       "      <th>python</th>\n",
       "      <td>0</td>\n",
       "      <td>1</td>\n",
       "      <td>0</td>\n",
       "      <td>0</td>\n",
       "      <td>1</td>\n",
       "      <td>0</td>\n",
       "      <td>0</td>\n",
       "    </tr>\n",
       "    <tr>\n",
       "      <th>science</th>\n",
       "      <td>0</td>\n",
       "      <td>0</td>\n",
       "      <td>0</td>\n",
       "      <td>1</td>\n",
       "      <td>0</td>\n",
       "      <td>0</td>\n",
       "      <td>0</td>\n",
       "    </tr>\n",
       "    <tr>\n",
       "      <th>statistics</th>\n",
       "      <td>0</td>\n",
       "      <td>0</td>\n",
       "      <td>1</td>\n",
       "      <td>0</td>\n",
       "      <td>0</td>\n",
       "      <td>0</td>\n",
       "      <td>0</td>\n",
       "    </tr>\n",
       "    <tr>\n",
       "      <th>watch</th>\n",
       "      <td>0</td>\n",
       "      <td>0</td>\n",
       "      <td>0</td>\n",
       "      <td>0</td>\n",
       "      <td>0</td>\n",
       "      <td>0</td>\n",
       "      <td>1</td>\n",
       "    </tr>\n",
       "  </tbody>\n",
       "</table>\n",
       "</div>"
      ],
      "text/plain": [
       "            Machine learning is very fun  Python is very, very nice  \\\n",
       "cricket                                0                          0   \n",
       "data                                   0                          0   \n",
       "fun                                    1                          0   \n",
       "great                                  0                          0   \n",
       "learning                               1                          0   \n",
       "like                                   0                          0   \n",
       "machine                                1                          0   \n",
       "nice                                   0                          1   \n",
       "python                                 0                          1   \n",
       "science                                0                          0   \n",
       "statistics                             0                          0   \n",
       "watch                                  0                          0   \n",
       "\n",
       "            Statistics is nice, too  Data science is fun  \\\n",
       "cricket                           0                    0   \n",
       "data                              0                    1   \n",
       "fun                               0                    1   \n",
       "great                             0                    0   \n",
       "learning                          0                    0   \n",
       "like                              0                    0   \n",
       "machine                           0                    0   \n",
       "nice                              1                    0   \n",
       "python                            0                    0   \n",
       "science                           0                    1   \n",
       "statistics                        1                    0   \n",
       "watch                             0                    0   \n",
       "\n",
       "            Python is great for machine learning  I like Cricket  \\\n",
       "cricket                                        0               1   \n",
       "data                                           0               0   \n",
       "fun                                            0               0   \n",
       "great                                          1               0   \n",
       "learning                                       1               0   \n",
       "like                                           0               1   \n",
       "machine                                        1               0   \n",
       "nice                                           0               0   \n",
       "python                                         1               0   \n",
       "science                                        0               0   \n",
       "statistics                                     0               0   \n",
       "watch                                          0               0   \n",
       "\n",
       "            Cricket is great to watch  \n",
       "cricket                             1  \n",
       "data                                0  \n",
       "fun                                 0  \n",
       "great                               1  \n",
       "learning                            0  \n",
       "like                                0  \n",
       "machine                             0  \n",
       "nice                                0  \n",
       "python                              0  \n",
       "science                             0  \n",
       "statistics                          0  \n",
       "watch                               1  "
      ]
     },
     "execution_count": 24,
     "metadata": {},
     "output_type": "execute_result"
    }
   ],
   "source": [
    "Frame2"
   ]
  },
  {
   "cell_type": "code",
   "execution_count": 26,
   "metadata": {
    "collapsed": false,
    "deletable": true,
    "editable": true
   },
   "outputs": [
    {
     "name": "stdout",
     "output_type": "stream",
     "text": [
      "[0.87302339429535769, 0.93167806314436197, 0.74022387390087108, 0.39957179780962793, 0.99289694350273183, 0.21753791145861801, 0.46078112070153276] [-0.48767832944781575, 0.36328499371095735, 0.67236048107186319, -0.91670190268984497, 0.1189775591568973, 0.97605187212474653, 0.8875138076700777]\n"
     ]
    }
   ],
   "source": [
    "xs=[w[0] for  w in dtm_lsa]\n",
    "ys=[w[1] for  w in dtm_lsa]\n",
    "print(xs,ys)"
   ]
  },
  {
   "cell_type": "code",
   "execution_count": 27,
   "metadata": {
    "collapsed": false,
    "deletable": true,
    "editable": true
   },
   "outputs": [
    {
     "data": {
      "text/html": [
       "<div>\n",
       "<table border=\"1\" class=\"dataframe\">\n",
       "  <thead>\n",
       "    <tr style=\"text-align: right;\">\n",
       "      <th></th>\n",
       "      <th>component_1</th>\n",
       "      <th>component_2</th>\n",
       "    </tr>\n",
       "  </thead>\n",
       "  <tbody>\n",
       "    <tr>\n",
       "      <th>Machine learning is very fun</th>\n",
       "      <td>0.873023</td>\n",
       "      <td>-0.487678</td>\n",
       "    </tr>\n",
       "    <tr>\n",
       "      <th>Python is very, very nice</th>\n",
       "      <td>0.931678</td>\n",
       "      <td>0.363285</td>\n",
       "    </tr>\n",
       "    <tr>\n",
       "      <th>Statistics is nice, too</th>\n",
       "      <td>0.740224</td>\n",
       "      <td>0.672360</td>\n",
       "    </tr>\n",
       "    <tr>\n",
       "      <th>Data science is fun</th>\n",
       "      <td>0.399572</td>\n",
       "      <td>-0.916702</td>\n",
       "    </tr>\n",
       "    <tr>\n",
       "      <th>Python is great for machine learning</th>\n",
       "      <td>0.992897</td>\n",
       "      <td>0.118978</td>\n",
       "    </tr>\n",
       "    <tr>\n",
       "      <th>I like Cricket</th>\n",
       "      <td>0.217538</td>\n",
       "      <td>0.976052</td>\n",
       "    </tr>\n",
       "    <tr>\n",
       "      <th>Cricket is great to watch</th>\n",
       "      <td>0.460781</td>\n",
       "      <td>0.887514</td>\n",
       "    </tr>\n",
       "  </tbody>\n",
       "</table>\n",
       "</div>"
      ],
      "text/plain": [
       "                                      component_1  component_2\n",
       "Machine learning is very fun             0.873023    -0.487678\n",
       "Python is very, very nice                0.931678     0.363285\n",
       "Statistics is nice, too                  0.740224     0.672360\n",
       "Data science is fun                      0.399572    -0.916702\n",
       "Python is great for machine learning     0.992897     0.118978\n",
       "I like Cricket                           0.217538     0.976052\n",
       "Cricket is great to watch                0.460781     0.887514"
      ]
     },
     "execution_count": 27,
     "metadata": {},
     "output_type": "execute_result"
    }
   ],
   "source": [
    "pd.DataFrame(dtm_lsa,index=example,columns=[\"component_1\",\"component_2\"])"
   ]
  },
  {
   "cell_type": "markdown",
   "metadata": {
    "deletable": true,
    "editable": true
   },
   "source": [
    "Now Compute Document Similarity using LSA Components"
   ]
  },
  {
   "cell_type": "code",
   "execution_count": 66,
   "metadata": {
    "collapsed": false,
    "deletable": true,
    "editable": true
   },
   "outputs": [
    {
     "data": {
      "text/plain": [
       "matrix([[ 0.87302339, -0.48767833],\n",
       "        [ 0.93167806,  0.36328499],\n",
       "        [ 0.74022387,  0.67236048],\n",
       "        [ 0.3995718 , -0.9167019 ],\n",
       "        [ 0.99289694,  0.11897756],\n",
       "        [ 0.21753791,  0.97605187],\n",
       "        [ 0.46078112,  0.88751381]])"
      ]
     },
     "execution_count": 66,
     "metadata": {},
     "output_type": "execute_result"
    }
   ],
   "source": [
    "numpy.asmatrix(dtm_lsa)"
   ]
  },
  {
   "cell_type": "code",
   "execution_count": 68,
   "metadata": {
    "collapsed": false,
    "deletable": true,
    "editable": true
   },
   "outputs": [
    {
     "data": {
      "text/html": [
       "<div>\n",
       "<table border=\"1\" class=\"dataframe\">\n",
       "  <thead>\n",
       "    <tr style=\"text-align: right;\">\n",
       "      <th></th>\n",
       "      <th>Machine learning is very fun</th>\n",
       "      <th>Python is very, very nice</th>\n",
       "      <th>Statistics is nice, too</th>\n",
       "      <th>Data science is fun</th>\n",
       "      <th>Python is great for machine learning</th>\n",
       "      <th>I like Cricket</th>\n",
       "      <th>Cricket is great to watch</th>\n",
       "    </tr>\n",
       "  </thead>\n",
       "  <tbody>\n",
       "    <tr>\n",
       "      <th>Machine learning is very fun</th>\n",
       "      <td>1.000000</td>\n",
       "      <td>0.636211</td>\n",
       "      <td>0.318337</td>\n",
       "      <td>0.795891</td>\n",
       "      <td>0.808799</td>\n",
       "      <td>-0.286084</td>\n",
       "      <td>-0.030549</td>\n",
       "    </tr>\n",
       "    <tr>\n",
       "      <th>Python is very, very nice</th>\n",
       "      <td>0.636211</td>\n",
       "      <td>1.000000</td>\n",
       "      <td>0.933909</td>\n",
       "      <td>0.039248</td>\n",
       "      <td>0.968283</td>\n",
       "      <td>0.557260</td>\n",
       "      <td>0.751720</td>\n",
       "    </tr>\n",
       "    <tr>\n",
       "      <th>Statistics is nice, too</th>\n",
       "      <td>0.318337</td>\n",
       "      <td>0.933909</td>\n",
       "      <td>1.000000</td>\n",
       "      <td>-0.320582</td>\n",
       "      <td>0.814962</td>\n",
       "      <td>0.817285</td>\n",
       "      <td>0.937810</td>\n",
       "    </tr>\n",
       "    <tr>\n",
       "      <th>Data science is fun</th>\n",
       "      <td>0.795891</td>\n",
       "      <td>0.039248</td>\n",
       "      <td>-0.320582</td>\n",
       "      <td>1.000000</td>\n",
       "      <td>0.287667</td>\n",
       "      <td>-0.807827</td>\n",
       "      <td>-0.629470</td>\n",
       "    </tr>\n",
       "    <tr>\n",
       "      <th>Python is great for machine learning</th>\n",
       "      <td>0.808799</td>\n",
       "      <td>0.968283</td>\n",
       "      <td>0.814962</td>\n",
       "      <td>0.287667</td>\n",
       "      <td>1.000000</td>\n",
       "      <td>0.332121</td>\n",
       "      <td>0.563102</td>\n",
       "    </tr>\n",
       "    <tr>\n",
       "      <th>I like Cricket</th>\n",
       "      <td>-0.286084</td>\n",
       "      <td>0.557260</td>\n",
       "      <td>0.817285</td>\n",
       "      <td>-0.807827</td>\n",
       "      <td>0.332121</td>\n",
       "      <td>1.000000</td>\n",
       "      <td>0.966497</td>\n",
       "    </tr>\n",
       "    <tr>\n",
       "      <th>Cricket is great to watch</th>\n",
       "      <td>-0.030549</td>\n",
       "      <td>0.751720</td>\n",
       "      <td>0.937810</td>\n",
       "      <td>-0.629470</td>\n",
       "      <td>0.563102</td>\n",
       "      <td>0.966497</td>\n",
       "      <td>1.000000</td>\n",
       "    </tr>\n",
       "  </tbody>\n",
       "</table>\n",
       "</div>"
      ],
      "text/plain": [
       "                                      Machine learning is very fun  \\\n",
       "Machine learning is very fun                              1.000000   \n",
       "Python is very, very nice                                 0.636211   \n",
       "Statistics is nice, too                                   0.318337   \n",
       "Data science is fun                                       0.795891   \n",
       "Python is great for machine learning                      0.808799   \n",
       "I like Cricket                                           -0.286084   \n",
       "Cricket is great to watch                                -0.030549   \n",
       "\n",
       "                                      Python is very, very nice  \\\n",
       "Machine learning is very fun                           0.636211   \n",
       "Python is very, very nice                              1.000000   \n",
       "Statistics is nice, too                                0.933909   \n",
       "Data science is fun                                    0.039248   \n",
       "Python is great for machine learning                   0.968283   \n",
       "I like Cricket                                         0.557260   \n",
       "Cricket is great to watch                              0.751720   \n",
       "\n",
       "                                      Statistics is nice, too  \\\n",
       "Machine learning is very fun                         0.318337   \n",
       "Python is very, very nice                            0.933909   \n",
       "Statistics is nice, too                              1.000000   \n",
       "Data science is fun                                 -0.320582   \n",
       "Python is great for machine learning                 0.814962   \n",
       "I like Cricket                                       0.817285   \n",
       "Cricket is great to watch                            0.937810   \n",
       "\n",
       "                                      Data science is fun  \\\n",
       "Machine learning is very fun                     0.795891   \n",
       "Python is very, very nice                        0.039248   \n",
       "Statistics is nice, too                         -0.320582   \n",
       "Data science is fun                              1.000000   \n",
       "Python is great for machine learning             0.287667   \n",
       "I like Cricket                                  -0.807827   \n",
       "Cricket is great to watch                       -0.629470   \n",
       "\n",
       "                                      Python is great for machine learning  \\\n",
       "Machine learning is very fun                                      0.808799   \n",
       "Python is very, very nice                                         0.968283   \n",
       "Statistics is nice, too                                           0.814962   \n",
       "Data science is fun                                               0.287667   \n",
       "Python is great for machine learning                              1.000000   \n",
       "I like Cricket                                                    0.332121   \n",
       "Cricket is great to watch                                         0.563102   \n",
       "\n",
       "                                      I like Cricket  \\\n",
       "Machine learning is very fun               -0.286084   \n",
       "Python is very, very nice                   0.557260   \n",
       "Statistics is nice, too                     0.817285   \n",
       "Data science is fun                        -0.807827   \n",
       "Python is great for machine learning        0.332121   \n",
       "I like Cricket                              1.000000   \n",
       "Cricket is great to watch                   0.966497   \n",
       "\n",
       "                                      Cricket is great to watch  \n",
       "Machine learning is very fun                          -0.030549  \n",
       "Python is very, very nice                              0.751720  \n",
       "Statistics is nice, too                                0.937810  \n",
       "Data science is fun                                   -0.629470  \n",
       "Python is great for machine learning                   0.563102  \n",
       "I like Cricket                                         0.966497  \n",
       "Cricket is great to watch                              1.000000  "
      ]
     },
     "execution_count": 68,
     "metadata": {},
     "output_type": "execute_result"
    }
   ],
   "source": [
    "similarity = np.asarray(numpy.asmatrix(dtm_lsa) * numpy.asmatrix(dtm_lsa).T)\n",
    "result=pd.DataFrame(similarity,index=example, columns=example)\n",
    "result"
   ]
  },
  {
   "cell_type": "code",
   "execution_count": 70,
   "metadata": {
    "collapsed": false,
    "deletable": true,
    "editable": true
   },
   "outputs": [
    {
     "data": {
      "text/html": [
       "<div>\n",
       "<table border=\"1\" class=\"dataframe\">\n",
       "  <thead>\n",
       "    <tr style=\"text-align: right;\">\n",
       "      <th></th>\n",
       "      <th>Machine learning is very fun</th>\n",
       "      <th>Python is very, very nice</th>\n",
       "      <th>Statistics is nice, too</th>\n",
       "      <th>Data science is fun</th>\n",
       "      <th>Python is great for machine learning</th>\n",
       "      <th>I like Cricket</th>\n",
       "      <th>Cricket is great to watch</th>\n",
       "    </tr>\n",
       "  </thead>\n",
       "  <tbody>\n",
       "    <tr>\n",
       "      <th>Machine learning is very fun</th>\n",
       "      <td>1.000000</td>\n",
       "      <td>-0.064027</td>\n",
       "      <td>-0.515298</td>\n",
       "      <td>0.923907</td>\n",
       "      <td>0.475788</td>\n",
       "      <td>-0.792243</td>\n",
       "      <td>-0.708461</td>\n",
       "    </tr>\n",
       "    <tr>\n",
       "      <th>Python is very, very nice</th>\n",
       "      <td>-0.064027</td>\n",
       "      <td>1.000000</td>\n",
       "      <td>0.888246</td>\n",
       "      <td>-0.440986</td>\n",
       "      <td>0.847292</td>\n",
       "      <td>0.659679</td>\n",
       "      <td>0.749662</td>\n",
       "    </tr>\n",
       "    <tr>\n",
       "      <th>Statistics is nice, too</th>\n",
       "      <td>-0.515298</td>\n",
       "      <td>0.888246</td>\n",
       "      <td>1.000000</td>\n",
       "      <td>-0.803994</td>\n",
       "      <td>0.508620</td>\n",
       "      <td>0.931194</td>\n",
       "      <td>0.969904</td>\n",
       "    </tr>\n",
       "    <tr>\n",
       "      <th>Data science is fun</th>\n",
       "      <td>0.923907</td>\n",
       "      <td>-0.440986</td>\n",
       "      <td>-0.803994</td>\n",
       "      <td>1.000000</td>\n",
       "      <td>0.103050</td>\n",
       "      <td>-0.965434</td>\n",
       "      <td>-0.924584</td>\n",
       "    </tr>\n",
       "    <tr>\n",
       "      <th>Python is great for machine learning</th>\n",
       "      <td>0.475788</td>\n",
       "      <td>0.847292</td>\n",
       "      <td>0.508620</td>\n",
       "      <td>0.103050</td>\n",
       "      <td>1.000000</td>\n",
       "      <td>0.159773</td>\n",
       "      <td>0.283672</td>\n",
       "    </tr>\n",
       "    <tr>\n",
       "      <th>I like Cricket</th>\n",
       "      <td>-0.792243</td>\n",
       "      <td>0.659679</td>\n",
       "      <td>0.931194</td>\n",
       "      <td>-0.965434</td>\n",
       "      <td>0.159773</td>\n",
       "      <td>1.000000</td>\n",
       "      <td>0.991926</td>\n",
       "    </tr>\n",
       "    <tr>\n",
       "      <th>Cricket is great to watch</th>\n",
       "      <td>-0.708461</td>\n",
       "      <td>0.749662</td>\n",
       "      <td>0.969904</td>\n",
       "      <td>-0.924584</td>\n",
       "      <td>0.283672</td>\n",
       "      <td>0.991926</td>\n",
       "      <td>1.000000</td>\n",
       "    </tr>\n",
       "  </tbody>\n",
       "</table>\n",
       "</div>"
      ],
      "text/plain": [
       "                                      Machine learning is very fun  \\\n",
       "Machine learning is very fun                              1.000000   \n",
       "Python is very, very nice                                -0.064027   \n",
       "Statistics is nice, too                                  -0.515298   \n",
       "Data science is fun                                       0.923907   \n",
       "Python is great for machine learning                      0.475788   \n",
       "I like Cricket                                           -0.792243   \n",
       "Cricket is great to watch                                -0.708461   \n",
       "\n",
       "                                      Python is very, very nice  \\\n",
       "Machine learning is very fun                          -0.064027   \n",
       "Python is very, very nice                              1.000000   \n",
       "Statistics is nice, too                                0.888246   \n",
       "Data science is fun                                   -0.440986   \n",
       "Python is great for machine learning                   0.847292   \n",
       "I like Cricket                                         0.659679   \n",
       "Cricket is great to watch                              0.749662   \n",
       "\n",
       "                                      Statistics is nice, too  \\\n",
       "Machine learning is very fun                        -0.515298   \n",
       "Python is very, very nice                            0.888246   \n",
       "Statistics is nice, too                              1.000000   \n",
       "Data science is fun                                 -0.803994   \n",
       "Python is great for machine learning                 0.508620   \n",
       "I like Cricket                                       0.931194   \n",
       "Cricket is great to watch                            0.969904   \n",
       "\n",
       "                                      Data science is fun  \\\n",
       "Machine learning is very fun                     0.923907   \n",
       "Python is very, very nice                       -0.440986   \n",
       "Statistics is nice, too                         -0.803994   \n",
       "Data science is fun                              1.000000   \n",
       "Python is great for machine learning             0.103050   \n",
       "I like Cricket                                  -0.965434   \n",
       "Cricket is great to watch                       -0.924584   \n",
       "\n",
       "                                      Python is great for machine learning  \\\n",
       "Machine learning is very fun                                      0.475788   \n",
       "Python is very, very nice                                         0.847292   \n",
       "Statistics is nice, too                                           0.508620   \n",
       "Data science is fun                                               0.103050   \n",
       "Python is great for machine learning                              1.000000   \n",
       "I like Cricket                                                    0.159773   \n",
       "Cricket is great to watch                                         0.283672   \n",
       "\n",
       "                                      I like Cricket  \\\n",
       "Machine learning is very fun               -0.792243   \n",
       "Python is very, very nice                   0.659679   \n",
       "Statistics is nice, too                     0.931194   \n",
       "Data science is fun                        -0.965434   \n",
       "Python is great for machine learning        0.159773   \n",
       "I like Cricket                              1.000000   \n",
       "Cricket is great to watch                   0.991926   \n",
       "\n",
       "                                      Cricket is great to watch  \n",
       "Machine learning is very fun                          -0.708461  \n",
       "Python is very, very nice                              0.749662  \n",
       "Statistics is nice, too                                0.969904  \n",
       "Data science is fun                                   -0.924584  \n",
       "Python is great for machine learning                   0.283672  \n",
       "I like Cricket                                         0.991926  \n",
       "Cricket is great to watch                              1.000000  "
      ]
     },
     "execution_count": 70,
     "metadata": {},
     "output_type": "execute_result"
    }
   ],
   "source": [
    "result.corr()"
   ]
  },
  {
   "cell_type": "code",
   "execution_count": 73,
   "metadata": {
    "collapsed": false,
    "deletable": true,
    "editable": true
   },
   "outputs": [
    {
     "data": {
      "text/plain": [
       "<bound method DataFrame.corrwith of                                       Machine learning is very fun  \\\n",
       "Machine learning is very fun                              1.000000   \n",
       "Python is very, very nice                                 0.636211   \n",
       "Statistics is nice, too                                   0.318337   \n",
       "Data science is fun                                       0.795891   \n",
       "Python is great for machine learning                      0.808799   \n",
       "I like Cricket                                           -0.286084   \n",
       "Cricket is great to watch                                -0.030549   \n",
       "\n",
       "                                      Python is very, very nice  \\\n",
       "Machine learning is very fun                           0.636211   \n",
       "Python is very, very nice                              1.000000   \n",
       "Statistics is nice, too                                0.933909   \n",
       "Data science is fun                                    0.039248   \n",
       "Python is great for machine learning                   0.968283   \n",
       "I like Cricket                                         0.557260   \n",
       "Cricket is great to watch                              0.751720   \n",
       "\n",
       "                                      Statistics is nice, too  \\\n",
       "Machine learning is very fun                         0.318337   \n",
       "Python is very, very nice                            0.933909   \n",
       "Statistics is nice, too                              1.000000   \n",
       "Data science is fun                                 -0.320582   \n",
       "Python is great for machine learning                 0.814962   \n",
       "I like Cricket                                       0.817285   \n",
       "Cricket is great to watch                            0.937810   \n",
       "\n",
       "                                      Data science is fun  \\\n",
       "Machine learning is very fun                     0.795891   \n",
       "Python is very, very nice                        0.039248   \n",
       "Statistics is nice, too                         -0.320582   \n",
       "Data science is fun                              1.000000   \n",
       "Python is great for machine learning             0.287667   \n",
       "I like Cricket                                  -0.807827   \n",
       "Cricket is great to watch                       -0.629470   \n",
       "\n",
       "                                      Python is great for machine learning  \\\n",
       "Machine learning is very fun                                      0.808799   \n",
       "Python is very, very nice                                         0.968283   \n",
       "Statistics is nice, too                                           0.814962   \n",
       "Data science is fun                                               0.287667   \n",
       "Python is great for machine learning                              1.000000   \n",
       "I like Cricket                                                    0.332121   \n",
       "Cricket is great to watch                                         0.563102   \n",
       "\n",
       "                                      I like Cricket  \\\n",
       "Machine learning is very fun               -0.286084   \n",
       "Python is very, very nice                   0.557260   \n",
       "Statistics is nice, too                     0.817285   \n",
       "Data science is fun                        -0.807827   \n",
       "Python is great for machine learning        0.332121   \n",
       "I like Cricket                              1.000000   \n",
       "Cricket is great to watch                   0.966497   \n",
       "\n",
       "                                      Cricket is great to watch  \n",
       "Machine learning is very fun                          -0.030549  \n",
       "Python is very, very nice                              0.751720  \n",
       "Statistics is nice, too                                0.937810  \n",
       "Data science is fun                                   -0.629470  \n",
       "Python is great for machine learning                   0.563102  \n",
       "I like Cricket                                         0.966497  \n",
       "Cricket is great to watch                              1.000000  >"
      ]
     },
     "execution_count": 73,
     "metadata": {},
     "output_type": "execute_result"
    }
   ],
   "source": [
    "result.corrwith"
   ]
  },
  {
   "cell_type": "code",
   "execution_count": 74,
   "metadata": {
    "collapsed": true,
    "deletable": true,
    "editable": true
   },
   "outputs": [],
   "source": [
    "import pylab"
   ]
  },
  {
   "cell_type": "code",
   "execution_count": 75,
   "metadata": {
    "collapsed": true,
    "deletable": true,
    "editable": true
   },
   "outputs": [],
   "source": [
    "pylab.interactive(True)"
   ]
  },
  {
   "cell_type": "code",
   "execution_count": 76,
   "metadata": {
    "collapsed": true,
    "deletable": true,
    "editable": true
   },
   "outputs": [],
   "source": [
    "import matplotlib.pyplot as plt"
   ]
  },
  {
   "cell_type": "code",
   "execution_count": 77,
   "metadata": {
    "collapsed": false,
    "deletable": true,
    "editable": true
   },
   "outputs": [
    {
     "data": {
      "image/png": "[encoded data removed]",
      "text/plain": [
       "<matplotlib.figure.Figure at 0xaf1b6a0>"
      ]
     },
     "metadata": {},
     "output_type": "display_data"
    }
   ],
   "source": [
    "plt.figure(1)\n",
    "plt.scatter(xs,ys)\n",
    "plt.xlabel('First Principal Component')\n",
    "plt.ylabel('Second Principal Component')\n",
    "plt.title('Plot of points against LSA principal components')\n",
    "plt.show(1)"
   ]
  },
  {
   "cell_type": "code",
   "execution_count": 79,
   "metadata": {
    "collapsed": false,
    "deletable": true,
    "editable": true
   },
   "outputs": [
    {
     "data": {
      "image/png": "[encoded data removed]",
      "text/plain": [
       "<matplotlib.figure.Figure at 0xb01c9b0>"
      ]
     },
     "metadata": {},
     "output_type": "display_data"
    }
   ],
   "source": [
    "plt.figure(2)\n",
    "ax=plt.gca()\n",
    "ax.quiver(0,0,xs,ys,angles='xy',scale_units='xy',scale=1,linewidth=0.01)\n",
    "ax.set_xlim([-1,1])\n",
    "ax.set_ylim([-1,1])\n",
    "plt.xlabel('First Principal Component')\n",
    "plt.ylabel('Second Principal Component')\n",
    "plt.title('Plot of points against LSA principal components')\n",
    "plt.show(2)"
   ]
  },
  {
   "cell_type": "code",
   "execution_count": null,
   "metadata": {
    "collapsed": true,
    "deletable": true,
    "editable": true
   },
   "outputs": [],
   "source": []
  }
 ],
 "metadata": {
  "kernelspec": {
   "display_name": "Python 3",
   "language": "python",
   "name": "python3"
  },
  "language_info": {
   "codemirror_mode": {
    "name": "ipython",
    "version": 3
   },
   "file_extension": ".py",
   "mimetype": "text/x-python",
   "name": "python",
   "nbconvert_exporter": "python",
   "pygments_lexer": "ipython3",
   "version": "3.5.2"
  }
 },
 "nbformat": 4,
 "nbformat_minor": 2
}
